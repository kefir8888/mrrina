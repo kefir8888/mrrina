{
 "cells": [
  {
   "cell_type": "code",
   "execution_count": 32,
   "metadata": {},
   "outputs": [
    {
     "name": "stdout",
     "output_type": "stream",
     "text": [
      "/Users/elijah/Downloads/dataset/DANCE_W_4/angles.json 197\n",
      "variance [0.16782476 0.00153671 0.90150456 0.05639891 0.01032126 0.74051517] 0.3130168947065543\n",
      "ar [0.02989796 0.00219388 0.09469388 0.01846939 0.00704082 0.07479592] 0.03784863945578231\n"
     ]
    }
   ],
   "source": [
    "import json\n",
    "import numpy as np\n",
    "\n",
    "common_part = \"/Users/elijah/Downloads/dataset/DANCE_W_4\"\n",
    "\n",
    "gt  = \"/angles.json\"\n",
    "gen = \"/angles_generated.json.npy\"\n",
    "\n",
    "def calc_stat (data_path):\n",
    "    data_file = open (data_path,)\n",
    "    data = json.load (data_file)\n",
    "\n",
    "    angles = data [\"angles\"]\n",
    "    print (data_path, len (angles))\n",
    "\n",
    "    variance = np.var  (angles, axis = 0)\n",
    "\n",
    "    print (\"variance\", variance, np.mean (variance))\n",
    "    \n",
    "    #ar = np.array ([6], np.float64)\n",
    "    ar = []\n",
    "    \n",
    "    for i in range (len (angles) - 1):\n",
    "        ar.append (np.array ([abs (a-b) for a,b in zip (angles [i], angles [i+1])]))\n",
    "    \n",
    "    me = np.mean (np.array (ar), axis=0)\n",
    "    \n",
    "    print(\"ar\", me, np.mean (me))\n",
    "    \n",
    "calc_stat (common_part + gt)"
   ]
  },
  {
   "cell_type": "code",
   "execution_count": 10,
   "metadata": {},
   "outputs": [],
   "source": [
    "#with np.load(common_part + gen) as data:\n",
    "#    print (len (data))\n",
    "\n",
    "a = np.load(common_part + gen)"
   ]
  },
  {
   "cell_type": "code",
   "execution_count": 20,
   "metadata": {},
   "outputs": [],
   "source": [
    "b = a.T"
   ]
  },
  {
   "cell_type": "code",
   "execution_count": 33,
   "metadata": {},
   "outputs": [
    {
     "name": "stdout",
     "output_type": "stream",
     "text": [
      "(4333, 6)\n",
      "variance [0.0024269  0.00368796 0.11192093 0.01508482 0.01641448 0.04043792] 0.03166217\n",
      "f 197\n",
      "ar [0.02669118 0.03396939 0.11368141 0.03542662 0.0474407  0.06813622] 0.054224253\n"
     ]
    }
   ],
   "source": [
    "def calc_stat_npy (a):\n",
    "    print (a.shape)\n",
    "    variance = np.var (a [:197], axis = 0)\n",
    "\n",
    "    print (\"variance\", variance, np.mean (variance))\n",
    "    \n",
    "    ar = []\n",
    "    \n",
    "    print (\"f\", a [:197].shape [0])\n",
    "    \n",
    "    for i in range (a.shape [0] - 1):\n",
    "        ar.append (np.array ([abs (a-b) for a,b in zip (a [i], a [i+1])]))\n",
    "    \n",
    "    me = np.mean (np.array (ar), axis=0)\n",
    "    \n",
    "    print(\"ar\", me, np.mean (me))\n",
    "\n",
    "calc_stat_npy (b)"
   ]
  },
  {
   "cell_type": "code",
   "execution_count": null,
   "metadata": {},
   "outputs": [],
   "source": []
  }
 ],
 "metadata": {
  "kernelspec": {
   "display_name": "Python 3",
   "language": "python",
   "name": "python3"
  },
  "language_info": {
   "codemirror_mode": {
    "name": "ipython",
    "version": 3
   },
   "file_extension": ".py",
   "mimetype": "text/x-python",
   "name": "python",
   "nbconvert_exporter": "python",
   "pygments_lexer": "ipython3",
   "version": "3.7.3"
  }
 },
 "nbformat": 4,
 "nbformat_minor": 2
}
