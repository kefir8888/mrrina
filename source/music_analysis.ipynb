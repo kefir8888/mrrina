{
 "cells": [
  {
   "cell_type": "code",
   "execution_count": 1,
   "metadata": {
    "slideshow": {
     "slide_type": "subslide"
    }
   },
   "outputs": [],
   "source": [
    "def read(f, normalized=False):\n",
    "    \"\"\"MP3 to numpy array\"\"\"\n",
    "    a = pydub.AudioSegment.from_mp3(f)\n",
    "    y = np.array(a.get_array_of_samples())\n",
    "    if a.channels == 2:\n",
    "        y = y.reshape((-1, 2))\n",
    "    if normalized:\n",
    "        return a.frame_rate, np.float32(y) / 2**15\n",
    "    else:\n",
    "        return a.frame_rate, y\n",
    "\n",
    "def write(f, sr, x, normalized=False):\n",
    "    \"\"\"numpy array to MP3\"\"\"\n",
    "    channels = 2 if (x.ndim == 2 and x.shape[1] == 2) else 1\n",
    "    if normalized:  # normalized array - each item should be a float in [-1, 1)\n",
    "        y = np.int16(x * 2 ** 15)\n",
    "    else:\n",
    "        y = np.int16(x)\n",
    "    song = pydub.AudioSegment(y.tobytes(), frame_rate=sr, sample_width=2, channels=channels)\n",
    "    song.export(f, format=\"mp3\", bitrate=\"320k\")\n",
    "\n",
    "path = \"/Users/elijah/Dropbox/Programming/RoboCup/remote control/data/music/gorillaz_collar.mp3\"\n",
    "\n",
    "#rate, audio = read (path)\n",
    "#write (path [:-4] + \"_part.mp3\", rate, audio [44100 * 25:44100 * 60])\n",
    "\n"
   ]
  },
  {
   "cell_type": "code",
   "execution_count": 2,
   "metadata": {},
   "outputs": [],
   "source": [
    "from scipy.linalg import toeplitz\n",
    "import numpy as np\n",
    "import math\n",
    "\n",
    "#import scipy.io.mp3file as mp3\n",
    "import pydub \n",
    "\n",
    "import matplotlib.pyplot as plt\n",
    "from IPython.display import Audio\n",
    "%matplotlib notebook\n",
    "\n",
    "from pydub import AudioSegment\n",
    "from pydub.playback import play\n",
    "\n",
    "import scipy.fftpack"
   ]
  },
  {
   "cell_type": "code",
   "execution_count": 10,
   "metadata": {},
   "outputs": [
    {
     "name": "stdout",
     "output_type": "stream",
     "text": [
      "sh (2000,)\n",
      "[  0.           0.15907537   0.15907537 ... 158.91629025 158.91629025\n",
      " 159.07536562]\n",
      "0.1590753656203494\n"
     ]
    },
    {
     "data": {
      "image/png": "[encoded data removed]",
      "text/plain": [
       "<Figure size 432x288 with 1 Axes>"
      ]
     },
     "metadata": {
      "needs_background": "light"
     },
     "output_type": "display_data"
    }
   ],
   "source": [
    "path_part = \"/Users/elijah/Dropbox/Programming/RoboCup/remote control/data/music/gorillaz_collar_part.mp3\"\n",
    "\n",
    "rate, audio = read (path_part)\n",
    "\n",
    "#print (len (audio)/44100)\n",
    "\n",
    "N = 2000\n",
    "an_part = audio [:2000, 1]\n",
    "x = np.linspace(0,2*np.pi,N)\n",
    "print (\"sh\", an_part.shape)\n",
    "\n",
    "#plt.plot(an_part)\n",
    "#plt.ylabel(\"Amplitude\")\n",
    "#plt.xlabel(\"Time\")\n",
    "#plt.title(\"You wanna piece of me, boy?\")\n",
    "#plt.show()\n",
    "\n",
    "# sp = np.fft.fft (an_part)\n",
    "# freq = np.fft.fftfreq(an_part.shape[-1])\n",
    "# plt.plot(freq, sp.real, freq, sp.imag)\n",
    "\n",
    "# cutoff_idx = sp < (sp.max()/1)\n",
    "# w2 = freq.copy()\n",
    "# w2[cutoff_idx] = 0\n",
    "\n",
    "# y2 = scipy.fftpack.irfft(w2)\n",
    "\n",
    "w = scipy.fftpack.rfft(an_part)\n",
    "f = scipy.fftpack.rfftfreq(N, x[1]-x[0])\n",
    "spectrum = w**2\n",
    "\n",
    "cutoff_idx = spectrum > (spectrum.max() / 15)\n",
    "w2 = w.copy()\n",
    "w2[cutoff_idx] = 0\n",
    "\n",
    "y2 = scipy.fftpack.irfft(w2)\n",
    "#y2 = scipy.fftpack.irfft(f)\n",
    "\n",
    "plt.plot (f, w)\n",
    "\n",
    "print (f)\n",
    "print (f [1])\n",
    "\n",
    "#plt.plot(w2)"
   ]
  },
  {
   "cell_type": "code",
   "execution_count": 11,
   "metadata": {},
   "outputs": [
    {
     "ename": "KeyboardInterrupt",
     "evalue": "",
     "output_type": "error",
     "traceback": [
      "\u001b[0;31m---------------------------------------------------------------------------\u001b[0m",
      "\u001b[0;31mKeyboardInterrupt\u001b[0m                         Traceback (most recent call last)",
      "\u001b[0;32m<ipython-input-11-a41ab3b124c2>\u001b[0m in \u001b[0;36m<module>\u001b[0;34m\u001b[0m\n\u001b[1;32m      1\u001b[0m \u001b[0msong\u001b[0m \u001b[0;34m=\u001b[0m \u001b[0mAudioSegment\u001b[0m\u001b[0;34m.\u001b[0m\u001b[0mfrom_mp3\u001b[0m \u001b[0;34m(\u001b[0m\u001b[0mpath_part\u001b[0m\u001b[0;34m)\u001b[0m\u001b[0;34m\u001b[0m\u001b[0;34m\u001b[0m\u001b[0m\n\u001b[0;32m----> 2\u001b[0;31m \u001b[0mplay\u001b[0m \u001b[0;34m(\u001b[0m\u001b[0msong\u001b[0m\u001b[0;34m)\u001b[0m\u001b[0;34m\u001b[0m\u001b[0;34m\u001b[0m\u001b[0m\n\u001b[0m",
      "\u001b[0;32m~/anaconda3/lib/python3.7/site-packages/pydub/playback.py\u001b[0m in \u001b[0;36mplay\u001b[0;34m(audio_segment)\u001b[0m\n\u001b[1;32m     69\u001b[0m         \u001b[0;32mreturn\u001b[0m\u001b[0;34m\u001b[0m\u001b[0;34m\u001b[0m\u001b[0m\n\u001b[1;32m     70\u001b[0m \u001b[0;34m\u001b[0m\u001b[0m\n\u001b[0;32m---> 71\u001b[0;31m     \u001b[0m_play_with_ffplay\u001b[0m\u001b[0;34m(\u001b[0m\u001b[0maudio_segment\u001b[0m\u001b[0;34m)\u001b[0m\u001b[0;34m\u001b[0m\u001b[0;34m\u001b[0m\u001b[0m\n\u001b[0m",
      "\u001b[0;32m~/anaconda3/lib/python3.7/site-packages/pydub/playback.py\u001b[0m in \u001b[0;36m_play_with_ffplay\u001b[0;34m(seg)\u001b[0m\n\u001b[1;32m     17\u001b[0m     \u001b[0;32mwith\u001b[0m \u001b[0mNamedTemporaryFile\u001b[0m\u001b[0;34m(\u001b[0m\u001b[0;34m\"w+b\"\u001b[0m\u001b[0;34m,\u001b[0m \u001b[0msuffix\u001b[0m\u001b[0;34m=\u001b[0m\u001b[0;34m\".wav\"\u001b[0m\u001b[0;34m)\u001b[0m \u001b[0;32mas\u001b[0m \u001b[0mf\u001b[0m\u001b[0;34m:\u001b[0m\u001b[0;34m\u001b[0m\u001b[0;34m\u001b[0m\u001b[0m\n\u001b[1;32m     18\u001b[0m         \u001b[0mseg\u001b[0m\u001b[0;34m.\u001b[0m\u001b[0mexport\u001b[0m\u001b[0;34m(\u001b[0m\u001b[0mf\u001b[0m\u001b[0;34m.\u001b[0m\u001b[0mname\u001b[0m\u001b[0;34m,\u001b[0m \u001b[0;34m\"wav\"\u001b[0m\u001b[0;34m)\u001b[0m\u001b[0;34m\u001b[0m\u001b[0;34m\u001b[0m\u001b[0m\n\u001b[0;32m---> 19\u001b[0;31m         \u001b[0msubprocess\u001b[0m\u001b[0;34m.\u001b[0m\u001b[0mcall\u001b[0m\u001b[0;34m(\u001b[0m\u001b[0;34m[\u001b[0m\u001b[0mPLAYER\u001b[0m\u001b[0;34m,\u001b[0m \u001b[0;34m\"-nodisp\"\u001b[0m\u001b[0;34m,\u001b[0m \u001b[0;34m\"-autoexit\"\u001b[0m\u001b[0;34m,\u001b[0m \u001b[0;34m\"-hide_banner\"\u001b[0m\u001b[0;34m,\u001b[0m \u001b[0mf\u001b[0m\u001b[0;34m.\u001b[0m\u001b[0mname\u001b[0m\u001b[0;34m]\u001b[0m\u001b[0;34m)\u001b[0m\u001b[0;34m\u001b[0m\u001b[0;34m\u001b[0m\u001b[0m\n\u001b[0m\u001b[1;32m     20\u001b[0m \u001b[0;34m\u001b[0m\u001b[0m\n\u001b[1;32m     21\u001b[0m \u001b[0;34m\u001b[0m\u001b[0m\n",
      "\u001b[0;32m~/anaconda3/lib/python3.7/subprocess.py\u001b[0m in \u001b[0;36mcall\u001b[0;34m(timeout, *popenargs, **kwargs)\u001b[0m\n\u001b[1;32m    323\u001b[0m     \u001b[0;32mwith\u001b[0m \u001b[0mPopen\u001b[0m\u001b[0;34m(\u001b[0m\u001b[0;34m*\u001b[0m\u001b[0mpopenargs\u001b[0m\u001b[0;34m,\u001b[0m \u001b[0;34m**\u001b[0m\u001b[0mkwargs\u001b[0m\u001b[0;34m)\u001b[0m \u001b[0;32mas\u001b[0m \u001b[0mp\u001b[0m\u001b[0;34m:\u001b[0m\u001b[0;34m\u001b[0m\u001b[0;34m\u001b[0m\u001b[0m\n\u001b[1;32m    324\u001b[0m         \u001b[0;32mtry\u001b[0m\u001b[0;34m:\u001b[0m\u001b[0;34m\u001b[0m\u001b[0;34m\u001b[0m\u001b[0m\n\u001b[0;32m--> 325\u001b[0;31m             \u001b[0;32mreturn\u001b[0m \u001b[0mp\u001b[0m\u001b[0;34m.\u001b[0m\u001b[0mwait\u001b[0m\u001b[0;34m(\u001b[0m\u001b[0mtimeout\u001b[0m\u001b[0;34m=\u001b[0m\u001b[0mtimeout\u001b[0m\u001b[0;34m)\u001b[0m\u001b[0;34m\u001b[0m\u001b[0;34m\u001b[0m\u001b[0m\n\u001b[0m\u001b[1;32m    326\u001b[0m         \u001b[0;32mexcept\u001b[0m\u001b[0;34m:\u001b[0m  \u001b[0;31m# Including KeyboardInterrupt, wait handled that.\u001b[0m\u001b[0;34m\u001b[0m\u001b[0;34m\u001b[0m\u001b[0m\n\u001b[1;32m    327\u001b[0m             \u001b[0mp\u001b[0m\u001b[0;34m.\u001b[0m\u001b[0mkill\u001b[0m\u001b[0;34m(\u001b[0m\u001b[0;34m)\u001b[0m\u001b[0;34m\u001b[0m\u001b[0;34m\u001b[0m\u001b[0m\n",
      "\u001b[0;32m~/anaconda3/lib/python3.7/subprocess.py\u001b[0m in \u001b[0;36mwait\u001b[0;34m(self, timeout)\u001b[0m\n\u001b[1;32m    988\u001b[0m             \u001b[0mendtime\u001b[0m \u001b[0;34m=\u001b[0m \u001b[0m_time\u001b[0m\u001b[0;34m(\u001b[0m\u001b[0;34m)\u001b[0m \u001b[0;34m+\u001b[0m \u001b[0mtimeout\u001b[0m\u001b[0;34m\u001b[0m\u001b[0;34m\u001b[0m\u001b[0m\n\u001b[1;32m    989\u001b[0m         \u001b[0;32mtry\u001b[0m\u001b[0;34m:\u001b[0m\u001b[0;34m\u001b[0m\u001b[0;34m\u001b[0m\u001b[0m\n\u001b[0;32m--> 990\u001b[0;31m             \u001b[0;32mreturn\u001b[0m \u001b[0mself\u001b[0m\u001b[0;34m.\u001b[0m\u001b[0m_wait\u001b[0m\u001b[0;34m(\u001b[0m\u001b[0mtimeout\u001b[0m\u001b[0;34m=\u001b[0m\u001b[0mtimeout\u001b[0m\u001b[0;34m)\u001b[0m\u001b[0;34m\u001b[0m\u001b[0;34m\u001b[0m\u001b[0m\n\u001b[0m\u001b[1;32m    991\u001b[0m         \u001b[0;32mexcept\u001b[0m \u001b[0mKeyboardInterrupt\u001b[0m\u001b[0;34m:\u001b[0m\u001b[0;34m\u001b[0m\u001b[0;34m\u001b[0m\u001b[0m\n\u001b[1;32m    992\u001b[0m             \u001b[0;31m# https://bugs.python.org/issue25942\u001b[0m\u001b[0;34m\u001b[0m\u001b[0;34m\u001b[0m\u001b[0;34m\u001b[0m\u001b[0m\n",
      "\u001b[0;32m~/anaconda3/lib/python3.7/subprocess.py\u001b[0m in \u001b[0;36m_wait\u001b[0;34m(self, timeout)\u001b[0m\n\u001b[1;32m   1622\u001b[0m                         \u001b[0;32mif\u001b[0m \u001b[0mself\u001b[0m\u001b[0;34m.\u001b[0m\u001b[0mreturncode\u001b[0m \u001b[0;32mis\u001b[0m \u001b[0;32mnot\u001b[0m \u001b[0;32mNone\u001b[0m\u001b[0;34m:\u001b[0m\u001b[0;34m\u001b[0m\u001b[0;34m\u001b[0m\u001b[0m\n\u001b[1;32m   1623\u001b[0m                             \u001b[0;32mbreak\u001b[0m  \u001b[0;31m# Another thread waited.\u001b[0m\u001b[0;34m\u001b[0m\u001b[0;34m\u001b[0m\u001b[0m\n\u001b[0;32m-> 1624\u001b[0;31m                         \u001b[0;34m(\u001b[0m\u001b[0mpid\u001b[0m\u001b[0;34m,\u001b[0m \u001b[0msts\u001b[0m\u001b[0;34m)\u001b[0m \u001b[0;34m=\u001b[0m \u001b[0mself\u001b[0m\u001b[0;34m.\u001b[0m\u001b[0m_try_wait\u001b[0m\u001b[0;34m(\u001b[0m\u001b[0;36m0\u001b[0m\u001b[0;34m)\u001b[0m\u001b[0;34m\u001b[0m\u001b[0;34m\u001b[0m\u001b[0m\n\u001b[0m\u001b[1;32m   1625\u001b[0m                         \u001b[0;31m# Check the pid and loop as waitpid has been known to\u001b[0m\u001b[0;34m\u001b[0m\u001b[0;34m\u001b[0m\u001b[0;34m\u001b[0m\u001b[0m\n\u001b[1;32m   1626\u001b[0m                         \u001b[0;31m# return 0 even without WNOHANG in odd situations.\u001b[0m\u001b[0;34m\u001b[0m\u001b[0;34m\u001b[0m\u001b[0;34m\u001b[0m\u001b[0m\n",
      "\u001b[0;32m~/anaconda3/lib/python3.7/subprocess.py\u001b[0m in \u001b[0;36m_try_wait\u001b[0;34m(self, wait_flags)\u001b[0m\n\u001b[1;32m   1580\u001b[0m             \u001b[0;34m\"\"\"All callers to this function MUST hold self._waitpid_lock.\"\"\"\u001b[0m\u001b[0;34m\u001b[0m\u001b[0;34m\u001b[0m\u001b[0m\n\u001b[1;32m   1581\u001b[0m             \u001b[0;32mtry\u001b[0m\u001b[0;34m:\u001b[0m\u001b[0;34m\u001b[0m\u001b[0;34m\u001b[0m\u001b[0m\n\u001b[0;32m-> 1582\u001b[0;31m                 \u001b[0;34m(\u001b[0m\u001b[0mpid\u001b[0m\u001b[0;34m,\u001b[0m \u001b[0msts\u001b[0m\u001b[0;34m)\u001b[0m \u001b[0;34m=\u001b[0m \u001b[0mos\u001b[0m\u001b[0;34m.\u001b[0m\u001b[0mwaitpid\u001b[0m\u001b[0;34m(\u001b[0m\u001b[0mself\u001b[0m\u001b[0;34m.\u001b[0m\u001b[0mpid\u001b[0m\u001b[0;34m,\u001b[0m \u001b[0mwait_flags\u001b[0m\u001b[0;34m)\u001b[0m\u001b[0;34m\u001b[0m\u001b[0;34m\u001b[0m\u001b[0m\n\u001b[0m\u001b[1;32m   1583\u001b[0m             \u001b[0;32mexcept\u001b[0m \u001b[0mChildProcessError\u001b[0m\u001b[0;34m:\u001b[0m\u001b[0;34m\u001b[0m\u001b[0;34m\u001b[0m\u001b[0m\n\u001b[1;32m   1584\u001b[0m                 \u001b[0;31m# This happens if SIGCLD is set to be ignored or waiting\u001b[0m\u001b[0;34m\u001b[0m\u001b[0;34m\u001b[0m\u001b[0;34m\u001b[0m\u001b[0m\n",
      "\u001b[0;31mKeyboardInterrupt\u001b[0m: "
     ]
    }
   ],
   "source": [
    "song = AudioSegment.from_mp3 (path_part)\n",
    "play (song)"
   ]
  },
  {
   "cell_type": "markdown",
   "metadata": {
    "slideshow": {
     "slide_type": "subslide"
    }
   },
   "source": [
    "Our next goal is to process this signal by multiplying it by a special type of matrix (convolution operation) that will smooth the signal. \n",
    "\n",
    "* (5 pts) Before processing this file let us estimate what size of matrix we can afford. Let $N$ be the size of the signal. Estimate analytically memory in megabytes required to store dense square matrix of size $N\\times N$ to fit in your operation memory and print this number. Cut the signal so that you will not have swap (overflow of the operation memory). **Note:** Cut the signal by taking every p-th number in array: ```signal[::p]```. "
   ]
  },
  {
   "cell_type": "code",
   "execution_count": 3,
   "metadata": {
    "slideshow": {
     "slide_type": "subslide"
    }
   },
   "outputs": [
    {
     "name": "stdout",
     "output_type": "stream",
     "text": [
      "10000\n"
     ]
    }
   ],
   "source": [
    "#print (audio [0].dtype)\n",
    "#the type is int16\n",
    "\n",
    "#Assuming that the type of the matrix elements is float64, we get 8 bytes per one value.\n",
    "\n",
    "N = 10000\n",
    "\n",
    "#N^2 elements, 2 bytes per element, divide by 1024^2 to convert into megabytes\n",
    "\n",
    "#sz = (N**2) * 8 / 1024 / 1024\n",
    "#print (sz)\n",
    "\n",
    "#Printing gives ~800 Mb. Usually I have around 1 Gb of free operational memory,\n",
    "#but it's not a reason to use it all.\n",
    "\n",
    "print(N)"
   ]
  },
  {
   "cell_type": "markdown",
   "metadata": {
    "slideshow": {
     "slide_type": "subslide"
    }
   },
   "source": [
    "* (5 pts) Write a function \n",
    "```python\n",
    "def gen_toeplitz(N, alpha):    \n",
    "    return T\n",
    "```\n",
    "that outputs matrix $T$: $$T_{ij} = \\sqrt{\\frac{\\alpha}{\\pi}}e^{-\\alpha (i-j)^2}, \\quad i,j=1,\\dots,N$$ as numpy array. <font color='red'> Avoid using loops or lists! </font> The function [np.meshgrid](https://docs.scipy.org/doc/numpy-1.13.0/reference/generated/numpy.meshgrid.html) will be helpful for this task.\n",
    "**Note:** matrices that depend only on difference of indices: $T_{ij} \\equiv T_{i-j}$ are called **Toeplitz**. Toeplitz matrix-by-vector multiplication is **convolution** since it can be written as $$y_i = \\sum_{j=1}^N T_{i-j} x_j.$$ Convolutions can be computed faster than $\\mathcal{O}(N^2)$ complexity using Fast Fourier transform (will be covered later in our course, no need to implement it here)."
   ]
  },
  {
   "cell_type": "code",
   "execution_count": 71,
   "metadata": {
    "slideshow": {
     "slide_type": "subslide"
    }
   },
   "outputs": [
    {
     "name": "stdout",
     "output_type": "stream",
     "text": [
      "[[2.52313252e-01 2.06576619e-01 1.13371652e-01 4.17071001e-02\n",
      "  1.02848443e-02 1.70007332e-03 1.88373493e-04 1.39911734e-05\n",
      "  6.96579506e-07 2.32471359e-08 5.20056374e-10 7.79854530e-12\n",
      "  7.83896964e-14 5.28185620e-16 2.38559310e-18]\n",
      " [2.06576619e-01 2.52313252e-01 2.06576619e-01 1.13371652e-01\n",
      "  4.17071001e-02 1.02848443e-02 1.70007332e-03 1.88373493e-04\n",
      "  1.39911734e-05 6.96579506e-07 2.32471359e-08 5.20056374e-10\n",
      "  7.79854530e-12 7.83896964e-14 5.28185620e-16]\n",
      " [1.13371652e-01 2.06576619e-01 2.52313252e-01 2.06576619e-01\n",
      "  1.13371652e-01 4.17071001e-02 1.02848443e-02 1.70007332e-03\n",
      "  1.88373493e-04 1.39911734e-05 6.96579506e-07 2.32471359e-08\n",
      "  5.20056374e-10 7.79854530e-12 7.83896964e-14]\n",
      " [4.17071001e-02 1.13371652e-01 2.06576619e-01 2.52313252e-01\n",
      "  2.06576619e-01 1.13371652e-01 4.17071001e-02 1.02848443e-02\n",
      "  1.70007332e-03 1.88373493e-04 1.39911734e-05 6.96579506e-07\n",
      "  2.32471359e-08 5.20056374e-10 7.79854530e-12]\n",
      " [1.02848443e-02 4.17071001e-02 1.13371652e-01 2.06576619e-01\n",
      "  2.52313252e-01 2.06576619e-01 1.13371652e-01 4.17071001e-02\n",
      "  1.02848443e-02 1.70007332e-03 1.88373493e-04 1.39911734e-05\n",
      "  6.96579506e-07 2.32471359e-08 5.20056374e-10]\n",
      " [1.70007332e-03 1.02848443e-02 4.17071001e-02 1.13371652e-01\n",
      "  2.06576619e-01 2.52313252e-01 2.06576619e-01 1.13371652e-01\n",
      "  4.17071001e-02 1.02848443e-02 1.70007332e-03 1.88373493e-04\n",
      "  1.39911734e-05 6.96579506e-07 2.32471359e-08]\n",
      " [1.88373493e-04 1.70007332e-03 1.02848443e-02 4.17071001e-02\n",
      "  1.13371652e-01 2.06576619e-01 2.52313252e-01 2.06576619e-01\n",
      "  1.13371652e-01 4.17071001e-02 1.02848443e-02 1.70007332e-03\n",
      "  1.88373493e-04 1.39911734e-05 6.96579506e-07]\n",
      " [1.39911734e-05 1.88373493e-04 1.70007332e-03 1.02848443e-02\n",
      "  4.17071001e-02 1.13371652e-01 2.06576619e-01 2.52313252e-01\n",
      "  2.06576619e-01 1.13371652e-01 4.17071001e-02 1.02848443e-02\n",
      "  1.70007332e-03 1.88373493e-04 1.39911734e-05]\n",
      " [6.96579506e-07 1.39911734e-05 1.88373493e-04 1.70007332e-03\n",
      "  1.02848443e-02 4.17071001e-02 1.13371652e-01 2.06576619e-01\n",
      "  2.52313252e-01 2.06576619e-01 1.13371652e-01 4.17071001e-02\n",
      "  1.02848443e-02 1.70007332e-03 1.88373493e-04]\n",
      " [2.32471359e-08 6.96579506e-07 1.39911734e-05 1.88373493e-04\n",
      "  1.70007332e-03 1.02848443e-02 4.17071001e-02 1.13371652e-01\n",
      "  2.06576619e-01 2.52313252e-01 2.06576619e-01 1.13371652e-01\n",
      "  4.17071001e-02 1.02848443e-02 1.70007332e-03]\n",
      " [5.20056374e-10 2.32471359e-08 6.96579506e-07 1.39911734e-05\n",
      "  1.88373493e-04 1.70007332e-03 1.02848443e-02 4.17071001e-02\n",
      "  1.13371652e-01 2.06576619e-01 2.52313252e-01 2.06576619e-01\n",
      "  1.13371652e-01 4.17071001e-02 1.02848443e-02]\n",
      " [7.79854530e-12 5.20056374e-10 2.32471359e-08 6.96579506e-07\n",
      "  1.39911734e-05 1.88373493e-04 1.70007332e-03 1.02848443e-02\n",
      "  4.17071001e-02 1.13371652e-01 2.06576619e-01 2.52313252e-01\n",
      "  2.06576619e-01 1.13371652e-01 4.17071001e-02]\n",
      " [7.83896964e-14 7.79854530e-12 5.20056374e-10 2.32471359e-08\n",
      "  6.96579506e-07 1.39911734e-05 1.88373493e-04 1.70007332e-03\n",
      "  1.02848443e-02 4.17071001e-02 1.13371652e-01 2.06576619e-01\n",
      "  2.52313252e-01 2.06576619e-01 1.13371652e-01]\n",
      " [5.28185620e-16 7.83896964e-14 7.79854530e-12 5.20056374e-10\n",
      "  2.32471359e-08 6.96579506e-07 1.39911734e-05 1.88373493e-04\n",
      "  1.70007332e-03 1.02848443e-02 4.17071001e-02 1.13371652e-01\n",
      "  2.06576619e-01 2.52313252e-01 2.06576619e-01]\n",
      " [2.38559310e-18 5.28185620e-16 7.83896964e-14 7.79854530e-12\n",
      "  5.20056374e-10 2.32471359e-08 6.96579506e-07 1.39911734e-05\n",
      "  1.88373493e-04 1.70007332e-03 1.02848443e-02 4.17071001e-02\n",
      "  1.13371652e-01 2.06576619e-01 2.52313252e-01]] \n",
      "\n",
      "[[1.21037194e-01 1.32839131e-01 1.09738828e-01 7.02117234e-02\n",
      "  3.56477023e-02 1.46044535e-02 4.87192102e-03 1.32841629e-03\n",
      "  2.96437579e-04 5.41550413e-05 8.09990934e-06 9.91886149e-07\n",
      "  9.94453599e-08 8.16297224e-09 5.48596735e-10]\n",
      " [1.32839131e-01 1.63711094e-01 1.56259064e-01 1.18354540e-01\n",
      "  7.23363318e-02 3.59988977e-02 1.46433671e-02 4.87481127e-03\n",
      "  1.32856019e-03 2.96442381e-04 5.41551488e-05 8.09991095e-06\n",
      "  9.91886165e-07 9.94453600e-08 8.16297224e-09]\n",
      " [1.09738828e-01 1.56259064e-01 1.76564225e-01 1.60987467e-01\n",
      "  1.19520550e-01 7.25290719e-02 3.60202539e-02 1.46449533e-02\n",
      "  4.87489024e-03 1.32856282e-03 2.96442440e-04 5.41551496e-05\n",
      "  8.09991096e-06 9.91886165e-07 9.94453599e-08]\n",
      " [7.02117234e-02 1.18354540e-01 1.60987467e-01 1.78303708e-01\n",
      "  1.61416418e-01 1.19591455e-01 7.25369284e-02 3.60208375e-02\n",
      "  1.46449823e-02 4.87489121e-03 1.32856284e-03 2.96442440e-04\n",
      "  5.41551496e-05 8.09991095e-06 9.91886149e-07]\n",
      " [3.56477023e-02 7.23363318e-02 1.19520550e-01 1.61416418e-01\n",
      "  1.78409486e-01 1.61433903e-01 1.19593392e-01 7.25370723e-02\n",
      "  3.60208446e-02 1.46449826e-02 4.87489122e-03 1.32856284e-03\n",
      "  2.96442440e-04 5.41551488e-05 8.09990934e-06]\n",
      " [1.46044535e-02 3.59988977e-02 7.25290719e-02 1.19591455e-01\n",
      "  1.61433903e-01 1.78412376e-01 1.61434223e-01 1.19593416e-01\n",
      "  7.25370735e-02 3.60208447e-02 1.46449826e-02 4.87489121e-03\n",
      "  1.32856282e-03 2.96442381e-04 5.41550413e-05]\n",
      " [4.87192102e-03 1.46433671e-02 3.60202539e-02 7.25369284e-02\n",
      "  1.19593392e-01 1.61434223e-01 1.78412411e-01 1.61434226e-01\n",
      "  1.19593416e-01 7.25370735e-02 3.60208446e-02 1.46449823e-02\n",
      "  4.87489024e-03 1.32856019e-03 2.96437579e-04]\n",
      " [1.32841629e-03 4.87481127e-03 1.46449533e-02 3.60208375e-02\n",
      "  7.25370723e-02 1.19593416e-01 1.61434226e-01 1.78412412e-01\n",
      "  1.61434226e-01 1.19593416e-01 7.25370723e-02 3.60208375e-02\n",
      "  1.46449533e-02 4.87481127e-03 1.32841629e-03]\n",
      " [2.96437579e-04 1.32856019e-03 4.87489024e-03 1.46449823e-02\n",
      "  3.60208446e-02 7.25370735e-02 1.19593416e-01 1.61434226e-01\n",
      "  1.78412411e-01 1.61434223e-01 1.19593392e-01 7.25369284e-02\n",
      "  3.60202539e-02 1.46433671e-02 4.87192102e-03]\n",
      " [5.41550413e-05 2.96442381e-04 1.32856282e-03 4.87489121e-03\n",
      "  1.46449826e-02 3.60208447e-02 7.25370735e-02 1.19593416e-01\n",
      "  1.61434223e-01 1.78412376e-01 1.61433903e-01 1.19591455e-01\n",
      "  7.25290719e-02 3.59988977e-02 1.46044535e-02]\n",
      " [8.09990934e-06 5.41551488e-05 2.96442440e-04 1.32856284e-03\n",
      "  4.87489122e-03 1.46449826e-02 3.60208446e-02 7.25370723e-02\n",
      "  1.19593392e-01 1.61433903e-01 1.78409486e-01 1.61416418e-01\n",
      "  1.19520550e-01 7.23363318e-02 3.56477023e-02]\n",
      " [9.91886149e-07 8.09991095e-06 5.41551496e-05 2.96442440e-04\n",
      "  1.32856284e-03 4.87489121e-03 1.46449823e-02 3.60208375e-02\n",
      "  7.25369284e-02 1.19591455e-01 1.61416418e-01 1.78303708e-01\n",
      "  1.60987467e-01 1.18354540e-01 7.02117234e-02]\n",
      " [9.94453599e-08 9.91886165e-07 8.09991096e-06 5.41551496e-05\n",
      "  2.96442440e-04 1.32856282e-03 4.87489024e-03 1.46449533e-02\n",
      "  3.60202539e-02 7.25290719e-02 1.19520550e-01 1.60987467e-01\n",
      "  1.76564225e-01 1.56259064e-01 1.09738828e-01]\n",
      " [8.16297224e-09 9.94453600e-08 9.91886165e-07 8.09991095e-06\n",
      "  5.41551488e-05 2.96442381e-04 1.32856019e-03 4.87481127e-03\n",
      "  1.46433671e-02 3.59988977e-02 7.23363318e-02 1.18354540e-01\n",
      "  1.56259064e-01 1.63711094e-01 1.32839131e-01]\n",
      " [5.48596735e-10 8.16297224e-09 9.94453599e-08 9.91886149e-07\n",
      "  8.09990934e-06 5.41550413e-05 2.96437579e-04 1.32841629e-03\n",
      "  4.87192102e-03 1.46044535e-02 3.56477023e-02 7.02117234e-02\n",
      "  1.09738828e-01 1.32839131e-01 1.21037194e-01]]\n"
     ]
    }
   ],
   "source": [
    "# INPUT: N - integer (positive), alpha - float (positive)\n",
    "# OUTPUT: T - np.array (shape: NxN)\n",
    "\n",
    "import math\n",
    "\n",
    "def gen_toeplitz(N, alpha):\n",
    "    # Your code is here\n",
    "    \n",
    "    i = np.arange (N) + 1\n",
    "    j = np.arange (N) + 1\n",
    "    \n",
    "    x, y = np.meshgrid (i, j)\n",
    "    \n",
    "    #print (x)\n",
    "    #print (y)\n",
    "    #T = x**2 + y**2\n",
    "    \n",
    "    T = math.sqrt (alpha / math.pi) * math.e**(- alpha * (x - y)**2)\n",
    "    \n",
    "    return T\n",
    "\n",
    "t = gen_toeplitz (15, 0.2)\n",
    "\n",
    "print (t, \"\\n\")\n",
    "\n",
    "print (t@t)"
   ]
  },
  {
   "cell_type": "markdown",
   "metadata": {
    "slideshow": {
     "slide_type": "slide"
    }
   },
   "source": [
    "## Convolution (10 pts)\n",
    "\n",
    "* (5 pts) Write a function ```convolution``` (see below)\n",
    "that takes the signal you want to convolve and multiply it by Toeplitz matrix T (for matvec operations use @ symbol). "
   ]
  },
  {
   "cell_type": "code",
   "execution_count": 5,
   "metadata": {
    "slideshow": {
     "slide_type": "subslide"
    }
   },
   "outputs": [],
   "source": [
    "# INPUT: signal - np.array (shape: Nx1), N - int (positive), alpha - float (positive)\n",
    "# OUTPUT: convolved_signal - np.array (shape: Nx1)\n",
    "\n",
    "def convolution(signal, N, alpha):\n",
    "    # Your code is here\n",
    "    matr = gen_toeplitz (N, alpha)\n",
    "    \n",
    "    convolved_signal = matr @ signal\n",
    "    \n",
    "    return convolved_signal"
   ]
  },
  {
   "cell_type": "markdown",
   "metadata": {
    "slideshow": {
     "slide_type": "subslide"
    }
   },
   "source": [
    "* (3 pts) Plot the first $100$ points of the result and the first $100$ points of your signal on the same figure. Do the same plots for $\\alpha = \\frac{1}{5}$, $\\alpha = \\frac{1}{100}$ using ```plt.subplots``` in matplotlib. Each subplot should contain first $100$ points of initial and convolved signals for some $\\alpha$. Make sure that you got results that look like smoothed initial signal.\n",
    "\n",
    "* (2 pts) Play the resulting signal. In order to do so you should also scale the frequency (rate), which is one of the inputs in `Audio`.  \n",
    "Note that you cannot play a signal which is too small."
   ]
  },
  {
   "cell_type": "code",
   "execution_count": 48,
   "metadata": {
    "slideshow": {
     "slide_type": "subslide"
    }
   },
   "outputs": [
    {
     "data": {
      "image/png": "[encoded data removed]",
      "text/plain": [
       "<Figure size 432x288 with 1 Axes>"
      ]
     },
     "metadata": {
      "needs_background": "light"
     },
     "output_type": "display_data"
    },
    {
     "data": {
      "image/png": "[encoded data removed]",
      "text/plain": [
       "<Figure size 432x288 with 1 Axes>"
      ]
     },
     "metadata": {
      "needs_background": "light"
     },
     "output_type": "display_data"
    }
   ],
   "source": [
    "# Your code is here\n",
    "\n",
    "audio_len = len (audio)\n",
    "\n",
    "signal = audio [::20]\n",
    "signal_len = len (signal)\n",
    "\n",
    "convolved_1 = convolution (signal, signal_len, 0.2)\n",
    "\n",
    "plt.plot(signal [:100])\n",
    "plt.plot(convolved_1 [:100])\n",
    "plt.ylabel(\"Amplitude\")\n",
    "plt.xlabel(\"Time\")\n",
    "plt.title(\"Alpha = 1/5\")\n",
    "plt.show()\n",
    "\n",
    "convolved_2 = convolution (signal, signal_len, 0.01)\n",
    "\n",
    "plt.plot(signal [:100])\n",
    "plt.plot(convolved_2 [:100])\n",
    "plt.ylabel(\"Amplitude\")\n",
    "plt.xlabel(\"Time\")\n",
    "plt.title(\"Alpha = 1/100\")\n",
    "plt.show()\n"
   ]
  },
  {
   "cell_type": "code",
   "execution_count": 49,
   "metadata": {},
   "outputs": [
    {
     "data": {
      "text/html": [
       "\n",
       "                <audio controls=\"controls\" >\n",
       "                    <source src=\"data:audio/wav;base64,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\" type=\"audio/wav\" />\n",
       "                    Your browser does not support the audio element.\n",
       "                </audio>\n",
       "              "
      ],
      "text/plain": [
       "<IPython.lib.display.Audio object>"
      ]
     },
     "execution_count": 49,
     "metadata": {},
     "output_type": "execute_result"
    }
   ],
   "source": [
    "Audio (signal, rate=4410)"
   ]
  },
  {
   "cell_type": "code",
   "execution_count": 50,
   "metadata": {
    "scrolled": true
   },
   "outputs": [
    {
     "data": {
      "text/html": [
       "\n",
       "                <audio controls=\"controls\" >\n",
       "                    <source src=\"data:audio/wav;base64,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\" type=\"audio/wav\" />\n",
       "                    Your browser does not support the audio element.\n",
       "                </audio>\n",
       "              "
      ],
      "text/plain": [
       "<IPython.lib.display.Audio object>"
      ]
     },
     "execution_count": 50,
     "metadata": {},
     "output_type": "execute_result"
    }
   ],
   "source": [
    "Audio (convolved_1, rate=4410)"
   ]
  },
  {
   "cell_type": "code",
   "execution_count": 51,
   "metadata": {},
   "outputs": [
    {
     "data": {
      "text/html": [
       "\n",
       "                <audio controls=\"controls\" >\n",
       "                    <source src=\"data:audio/wav;base64,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\" type=\"audio/wav\" />\n",
       "                    Your browser does not support the audio element.\n",
       "                </audio>\n",
       "              "
      ],
      "text/plain": [
       "<IPython.lib.display.Audio object>"
      ]
     },
     "execution_count": 51,
     "metadata": {},
     "output_type": "execute_result"
    }
   ],
   "source": [
    "Audio (convolved_2, rate=4410)"
   ]
  }
 ],
 "metadata": {
  "celltoolbar": "Slideshow",
  "kernelspec": {
   "display_name": "Python 3",
   "language": "python",
   "name": "python3"
  },
  "language_info": {
   "codemirror_mode": {
    "name": "ipython",
    "version": 3
   },
   "file_extension": ".py",
   "mimetype": "text/x-python",
   "name": "python",
   "nbconvert_exporter": "python",
   "pygments_lexer": "ipython3",
   "version": "3.7.3"
  },
  "toc": {
   "nav_menu": {},
   "number_sections": false,
   "sideBar": true,
   "skip_h1_title": false,
   "title_cell": "Table of Contents",
   "title_sidebar": "Contents",
   "toc_cell": false,
   "toc_position": {},
   "toc_section_display": true,
   "toc_window_display": false
  },
  "varInspector": {
   "cols": {
    "lenName": 16,
    "lenType": 16,
    "lenVar": 40
   },
   "kernels_config": {
    "python": {
     "delete_cmd_postfix": "",
     "delete_cmd_prefix": "del ",
     "library": "var_list.py",
     "varRefreshCmd": "print(var_dic_list())"
    },
    "r": {
     "delete_cmd_postfix": ") ",
     "delete_cmd_prefix": "rm(",
     "library": "var_list.r",
     "varRefreshCmd": "cat(var_dic_list()) "
    }
   },
   "types_to_exclude": [
    "module",
    "function",
    "builtin_function_or_method",
    "instance",
    "_Feature"
   ],
   "window_display": false
  }
 },
 "nbformat": 4,
 "nbformat_minor": 2
}
